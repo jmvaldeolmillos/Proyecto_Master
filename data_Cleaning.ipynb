{
 "cells": [
  {
   "cell_type": "code",
   "execution_count": 55,
   "metadata": {
    "collapsed": true
   },
   "outputs": [],
   "source": [
    "# Carga librerias\n",
    "import numpy as np\n",
    "import pandas as pd"
   ]
  },
  {
   "cell_type": "code",
   "execution_count": 41,
   "metadata": {
    "collapsed": true
   },
   "outputs": [],
   "source": [
    "# Carga fichero estaciones\n",
    "estaciones = pd.read_csv('data/estaciones.csv',sep=\";\")"
   ]
  },
  {
   "cell_type": "code",
   "execution_count": 43,
   "metadata": {
    "collapsed": false
   },
   "outputs": [],
   "source": [
    "# Renombrado columnas\n",
    "estaciones.columns = ['Estacion', 'Localizacion', 'Provincia','Longitud','Latitud','Altura','Operativa']"
   ]
  },
  {
   "cell_type": "code",
   "execution_count": 75,
   "metadata": {
    "collapsed": false
   },
   "outputs": [],
   "source": [
    "# Paso a minusculas\n",
    "for col in estaciones.columns:\n",
    "    if col != \"Provincia\":\n",
    "        estaciones[col] = estaciones[col].str.title()"
   ]
  },
  {
   "cell_type": "code",
   "execution_count": 76,
   "metadata": {
    "collapsed": false
   },
   "outputs": [],
   "source": [
    "# Limpieza de datos\n",
    "estaciones.Localizacion = estaciones.Localizacion.str.replace('C/', 'Calle')\n",
    "estaciones.Altura = estaciones.Altura.str.replace('m', '')\n",
    "estaciones.Altura = estaciones.Altura.str.rstrip()\n",
    "estaciones.Longitud = estaciones.Longitud.str.replace('w','')\n",
    "estaciones.Longitud = estaciones.Longitud.str.rstrip()\n",
    "estaciones.Latitud = estaciones.Latitud.str.replace('n','')\n",
    "estaciones.Latitud = estaciones.Latitud.str.rstrip()"
   ]
  },
  {
   "cell_type": "code",
   "execution_count": 77,
   "metadata": {
    "collapsed": false
   },
   "outputs": [],
   "source": [
    "# Remplazando acentos\n",
    "for col in estaciones.columns:\n",
    "    estaciones[col] = estaciones[col].str.replace('Á', 'A')\n",
    "    estaciones[col] = estaciones[col].str.replace('É', 'E')\n",
    "    estaciones[col] = estaciones[col].str.replace('Í', 'I')\n",
    "    estaciones[col] = estaciones[col].str.replace('Ó', 'O')\n",
    "    estaciones[col] = estaciones[col].str.replace('Ú', 'U')\n",
    "    estaciones[col] = estaciones[col].str.replace('á', 'a')\n",
    "    estaciones[col] = estaciones[col].str.replace('é', 'e')\n",
    "    estaciones[col] = estaciones[col].str.replace('í', 'i')\n",
    "    estaciones[col] = estaciones[col].str.replace('ó', 'o')\n",
    "    estaciones[col] = estaciones[col].str.replace('ú', 'u')\n",
    "    estaciones[col] = estaciones[col].str.replace('ñ', 'n')"
   ]
  },
  {
   "cell_type": "code",
   "execution_count": 78,
   "metadata": {
    "collapsed": true
   },
   "outputs": [],
   "source": [
    "estaciones.to_csv('data/estacionesok.csv', sep=\";\", index=None, encoding=\"utf-8\")"
   ]
  },
  {
   "cell_type": "code",
   "execution_count": 69,
   "metadata": {
    "collapsed": false
   },
   "outputs": [],
   "source": [
    "# Carga fichero historico\n",
    "historico = pd.read_csv('data/historico.csv',sep=\";\",low_memory=False)"
   ]
  },
  {
   "cell_type": "code",
   "execution_count": 73,
   "metadata": {
    "collapsed": false
   },
   "outputs": [],
   "source": [
    "# Renombrado columnas\n",
    "historico.columns = ['Dia','CO','NO','NO2','Ozono','PM10','SH2','PM25','PST','SO2','Provincia','Estacion']"
   ]
  },
  {
   "cell_type": "code",
   "execution_count": 81,
   "metadata": {
    "collapsed": false
   },
   "outputs": [],
   "source": [
    "for col in ['Provincia', 'Estacion']:\n",
    "    historico[col] = historico[col].str.replace('Á', 'A')\n",
    "    historico[col] = historico[col].str.replace('É', 'E')\n",
    "    historico[col] = historico[col].str.replace('Í', 'I')\n",
    "    historico[col] = historico[col].str.replace('Ó', 'O')\n",
    "    historico[col] = historico[col].str.replace('Ú', 'U')\n",
    "    historico[col] = historico[col].str.replace('á', 'a')\n",
    "    historico[col] = historico[col].str.replace('é', 'e')\n",
    "    historico[col] = historico[col].str.replace('í', 'i')\n",
    "    historico[col] = historico[col].str.replace('ó', 'o')\n",
    "    historico[col] = historico[col].str.replace('ú', 'u')"
   ]
  },
  {
   "cell_type": "code",
   "execution_count": 83,
   "metadata": {
    "collapsed": false
   },
   "outputs": [],
   "source": [
    "historico.to_csv('data/historicook.csv', sep=\";\", index=None, encoding=\"utf-8\")"
   ]
  }
 ],
 "metadata": {
  "kernelspec": {
   "display_name": "Python 2",
   "language": "python",
   "name": "python2"
  },
  "language_info": {
   "codemirror_mode": {
    "name": "ipython",
    "version": 2
   },
   "file_extension": ".py",
   "mimetype": "text/x-python",
   "name": "python",
   "nbconvert_exporter": "python",
   "pygments_lexer": "ipython2",
   "version": "2.7.11"
  }
 },
 "nbformat": 4,
 "nbformat_minor": 0
}
