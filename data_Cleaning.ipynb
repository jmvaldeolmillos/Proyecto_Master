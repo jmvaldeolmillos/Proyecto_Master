{
 "cells": [
  {
   "cell_type": "code",
   "execution_count": 1,
   "metadata": {
    "collapsed": true
   },
   "outputs": [],
   "source": [
    "# Carga librerias\n",
    "import numpy as np\n",
    "import pandas as pd"
   ]
  },
  {
   "cell_type": "code",
   "execution_count": 13,
   "metadata": {
    "collapsed": false
   },
   "outputs": [],
   "source": [
    "# Carga fichero estaciones\n",
    "estaciones = pd.read_csv('data/estaciones.csv',sep=\";\")"
   ]
  },
  {
   "cell_type": "code",
   "execution_count": 14,
   "metadata": {
    "collapsed": false
   },
   "outputs": [],
   "source": [
    "# Renombrado columnas\n",
    "estaciones.columns = ['Estacion', 'Localizacion', 'Provincia','Longitud','Latitud','Altura','Operativa']"
   ]
  },
  {
   "cell_type": "code",
   "execution_count": 15,
   "metadata": {
    "collapsed": false
   },
   "outputs": [],
   "source": [
    "# Paso a minusculas\n",
    "for col in estaciones.columns:\n",
    "    if col != \"Provincia\":\n",
    "        estaciones[col] = estaciones[col].str.title()"
   ]
  },
  {
   "cell_type": "code",
   "execution_count": 16,
   "metadata": {
    "collapsed": true
   },
   "outputs": [],
   "source": [
    "import re\n",
    "\n",
    "def parse_lat(coord):\n",
    "    \"\"\" Pass in string in degrees like \"(24º37'55.25\\\"W)\"\n",
    "    Returns decimal lat\n",
    "    \"\"\"\n",
    "    lat_regex = r\"\\(\\s*(\\d+)º(\\d+)'([\\d.]+)\\\"([WE]))\"\n",
    "    m = re.match(lat_regex, coord)\n",
    "    parts = m.groups()\n",
    "    lat = int(parts[0]) + float(parts[1]) / 60 + float(parts[2]) / 3600\n",
    "    if parts[3] == 'W':\n",
    "        lat *= -1\n",
    "    return (lat)\n",
    "\n",
    "def parse_lon(coord):\n",
    "    \"\"\" Pass in string in degrees like \"(73d42'10.75\\\"S)\"\n",
    "    Returns decimal lon\n",
    "    \"\"\"\n",
    "    lon_regex = r\"\\(\\s*(\\d+)º(\\d+)'([\\d.]+)\\\"([NS])\\s*\\)\"\n",
    "    m = re.match(lon_regex, coord)\n",
    "    parts = m.groups()\n",
    "    lon = int(parts[0]) + float(parts[1]) / 60 + float(parts[2]) / 3600\n",
    "    if parts[3] == 'S':\n",
    "        lon *= -1\n",
    "    return (lon)"
   ]
  },
  {
   "cell_type": "code",
   "execution_count": 17,
   "metadata": {
    "collapsed": false
   },
   "outputs": [],
   "source": [
    "# Limpieza de datos\n",
    "estaciones.Localizacion = estaciones.Localizacion.str.replace('C/', 'Calle')\n",
    "estaciones.Altura = estaciones.Altura.str.replace('m', '')\n",
    "estaciones.Altura = estaciones.Altura.str.rstrip()\n",
    "estaciones.Longitud = estaciones.Longitud.str.replace(' W','W')\n",
    "estaciones.Longitud = estaciones.Longitud.str.replace(\"\\'\\'\",\"\\\"\")\n",
    "estaciones.Longitud = estaciones.Longitud.str.replace(\"\\`\",\"\\'\")\n",
    "estaciones.Latitud = estaciones.Latitud.str.replace(' N','N')\n",
    "estaciones.Latitud = estaciones.Latitud.str.rstrip()"
   ]
  },
  {
   "cell_type": "code",
   "execution_count": 7,
   "metadata": {
    "collapsed": false
   },
   "outputs": [],
   "source": [
    "# Remplazando acentos\n",
    "for col in estaciones.columns:\n",
    "    estaciones[col] = estaciones[col].str.replace('Á', 'A')\n",
    "    estaciones[col] = estaciones[col].str.replace('É', 'E')\n",
    "    estaciones[col] = estaciones[col].str.replace('Í', 'I')\n",
    "    estaciones[col] = estaciones[col].str.replace('Ó', 'O')\n",
    "    estaciones[col] = estaciones[col].str.replace('Ú', 'U')\n",
    "    estaciones[col] = estaciones[col].str.replace('á', 'a')\n",
    "    estaciones[col] = estaciones[col].str.replace('é', 'e')\n",
    "    estaciones[col] = estaciones[col].str.replace('í', 'i')\n",
    "    estaciones[col] = estaciones[col].str.replace('ó', 'o')\n",
    "    estaciones[col] = estaciones[col].str.replace('ú', 'u')\n",
    "    estaciones[col] = estaciones[col].str.replace('ñ', 'n')"
   ]
  },
  {
   "cell_type": "code",
   "execution_count": 18,
   "metadata": {
    "collapsed": true
   },
   "outputs": [],
   "source": [
    "estaciones.to_csv('data/estacionesok.csv', sep=\";\", index=None, encoding=\"utf-8\")"
   ]
  },
  {
   "cell_type": "code",
   "execution_count": 9,
   "metadata": {
    "collapsed": false
   },
   "outputs": [],
   "source": [
    "# Carga fichero historico\n",
    "historico = pd.read_csv('data/historico.csv',sep=\";\",low_memory=False)"
   ]
  },
  {
   "cell_type": "code",
   "execution_count": 10,
   "metadata": {
    "collapsed": false
   },
   "outputs": [],
   "source": [
    "# Renombrado columnas\n",
    "historico.columns = ['Dia','CO','NO','NO2','Ozono','PM10','SH2','PM25','PST','SO2','Provincia','Estacion']"
   ]
  },
  {
   "cell_type": "code",
   "execution_count": 11,
   "metadata": {
    "collapsed": false
   },
   "outputs": [],
   "source": [
    "for col in ['Provincia', 'Estacion']:\n",
    "    historico[col] = historico[col].str.replace('Á', 'A')\n",
    "    historico[col] = historico[col].str.replace('É', 'E')\n",
    "    historico[col] = historico[col].str.replace('Í', 'I')\n",
    "    historico[col] = historico[col].str.replace('Ó', 'O')\n",
    "    historico[col] = historico[col].str.replace('Ú', 'U')\n",
    "    historico[col] = historico[col].str.replace('á', 'a')\n",
    "    historico[col] = historico[col].str.replace('é', 'e')\n",
    "    historico[col] = historico[col].str.replace('í', 'i')\n",
    "    historico[col] = historico[col].str.replace('ó', 'o')\n",
    "    historico[col] = historico[col].str.replace('ú', 'u')"
   ]
  },
  {
   "cell_type": "code",
   "execution_count": 12,
   "metadata": {
    "collapsed": false
   },
   "outputs": [],
   "source": [
    "historico.to_csv('data/historicook.csv', sep=\";\", index=None, encoding=\"utf-8\")"
   ]
  }
 ],
 "metadata": {
  "kernelspec": {
   "display_name": "Python 2",
   "language": "python",
   "name": "python2"
  },
  "language_info": {
   "codemirror_mode": {
    "name": "ipython",
    "version": 2
   },
   "file_extension": ".py",
   "mimetype": "text/x-python",
   "name": "python",
   "nbconvert_exporter": "python",
   "pygments_lexer": "ipython2",
   "version": "2.7.11"
  }
 },
 "nbformat": 4,
 "nbformat_minor": 0
}
