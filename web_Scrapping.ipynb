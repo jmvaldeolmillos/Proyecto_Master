{
 "cells": [
  {
   "cell_type": "code",
   "execution_count": 1,
   "metadata": {
    "collapsed": true
   },
   "outputs": [],
   "source": [
    "# -*- coding: utf-8 -*-\n",
    "\n",
    "# carga de librerias de scrapping\n",
    "import os\n",
    "import requests\n",
    "import urllib\n",
    "from bs4 import BeautifulSoup"
   ]
  },
  {
   "cell_type": "code",
   "execution_count": 2,
   "metadata": {
    "collapsed": true
   },
   "outputs": [],
   "source": [
    "linkDatos = \"http://www.datosabiertos.jcyl.es/web/jcyl/set/es/medio-ambiente/calidad_aire_historico/1284212629698\"\n",
    "linkEstaciones = \"http://www.datosabiertos.jcyl.es/web/jcyl/set/es/medio-ambiente/calidad_aire_estaciones/1284212701893\""
   ]
  },
  {
   "cell_type": "code",
   "execution_count": 3,
   "metadata": {
    "collapsed": false
   },
   "outputs": [
    {
     "name": "stderr",
     "output_type": "stream",
     "text": [
      "/home/jose/anaconda2/lib/python2.7/site-packages/bs4/__init__.py:166: UserWarning: No parser was explicitly specified, so I'm using the best available HTML parser for this system (\"lxml\"). This usually isn't a problem, but if you run this code on another system, or in a different virtual environment, it may use a different parser and behave differently.\n",
      "\n",
      "To get rid of this warning, change this:\n",
      "\n",
      " BeautifulSoup([your markup])\n",
      "\n",
      "to this:\n",
      "\n",
      " BeautifulSoup([your markup], \"lxml\")\n",
      "\n",
      "  markup_type=markup_type))\n"
     ]
    },
    {
     "data": {
      "text/plain": [
       "0"
      ]
     },
     "execution_count": 3,
     "metadata": {},
     "output_type": "execute_result"
    }
   ],
   "source": [
    "# Extraemos el link del ultimo csv de los Historicos.\n",
    "r = requests.get(linkDatos)\n",
    "enlace = BeautifulSoup(r.content)\n",
    "for link in enlace.findAll(\"a\"):\n",
    "    if \".csv\" in link.get(\"href\"):\n",
    "        urllib.urlretrieve(link.get(\"href\"), \"data/historico.csv\")\n",
    "        #convertimos a utf-8\n",
    "        f= open(\"data/historico.csv\", 'rb')\n",
    "        content= unicode(f.read(), 'windows-1252')\n",
    "        f.close()\n",
    "        f= open(\"data/historicoOk.csv\", 'wb')\n",
    "        f.write(content.encode('utf-8'))\n",
    "        f.close()\n",
    "        break\n",
    "os.system(\"mv data/historicoOk.csv data/historico.csv\")"
   ]
  },
  {
   "cell_type": "code",
   "execution_count": 4,
   "metadata": {
    "collapsed": false
   },
   "outputs": [
    {
     "data": {
      "text/plain": [
       "0"
      ]
     },
     "execution_count": 4,
     "metadata": {},
     "output_type": "execute_result"
    }
   ],
   "source": [
    "# Extraemos el link del ultimo csv de los Estaciones.\n",
    "r = requests.get(linkEstaciones)\n",
    "enlace = BeautifulSoup(r.content)\n",
    "for link in enlace.findAll(\"a\"):\n",
    "    if \".csv\" in link.get(\"href\"):\n",
    "        urllib.urlretrieve(link.get(\"href\"), \"data/estaciones.csv\")\n",
    "        #convertimos a utf-8\n",
    "        f= open(\"data/estaciones.csv\", 'rb')\n",
    "        content= unicode(f.read(), 'windows-1252')\n",
    "        f.close()\n",
    "        f= open(\"data/estacionesOk.csv\", 'wb')\n",
    "        f.write(content.encode('utf-8'))\n",
    "        f.close()\n",
    "        break\n",
    "os.system(\"mv data/estacionesOk.csv data/estaciones.csv\")"
   ]
  }
 ],
 "metadata": {
  "kernelspec": {
   "display_name": "Python 2",
   "language": "python",
   "name": "python2"
  },
  "language_info": {
   "codemirror_mode": {
    "name": "ipython",
    "version": 2
   },
   "file_extension": ".py",
   "mimetype": "text/x-python",
   "name": "python",
   "nbconvert_exporter": "python",
   "pygments_lexer": "ipython2",
   "version": "2.7.11"
  }
 },
 "nbformat": 4,
 "nbformat_minor": 0
}
